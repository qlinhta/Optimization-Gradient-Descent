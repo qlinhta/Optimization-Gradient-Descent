{
 "cells": [
  {
   "cell_type": "code",
   "execution_count": 1,
   "id": "3b411a8c-dd99-47f8-83d3-e111c6ef51b7",
   "metadata": {},
   "outputs": [],
   "source": [
    "import numpy as np"
   ]
  },
  {
   "cell_type": "code",
   "execution_count": 3,
   "id": "c47368ba-4647-435f-8f5d-91917e2a6f40",
   "metadata": {},
   "outputs": [],
   "source": [
    "def sigmoid(x):\n",
    "    return 1 / (1 + np.exp(-x))"
   ]
  },
  {
   "cell_type": "code",
   "execution_count": 7,
   "id": "9da614fd-af7a-4fca-a164-7b832ce82540",
   "metadata": {},
   "outputs": [],
   "source": [
    "train_input = np.array([[0, 0, 1],\n",
    "                  [1, 1, 1],\n",
    "                  [1, 0, 1],\n",
    "                  [0, 1, 1]])"
   ]
  },
  {
   "cell_type": "code",
   "execution_count": 10,
   "id": "fdd6b90b-8702-4e27-b072-58e286a233bf",
   "metadata": {},
   "outputs": [
    {
     "data": {
      "text/plain": [
       "(array([[0, 0, 1],\n",
       "        [1, 1, 1],\n",
       "        [1, 0, 1],\n",
       "        [0, 1, 1]]),\n",
       " array([[0],\n",
       "        [1],\n",
       "        [1],\n",
       "        [0]]))"
      ]
     },
     "execution_count": 10,
     "metadata": {},
     "output_type": "execute_result"
    }
   ],
   "source": [
    "train_output = np.array([[0, 1, 1, 0]]).T\n",
    "train_input, train_output"
   ]
  },
  {
   "cell_type": "code",
   "execution_count": 11,
   "id": "a1b2e61d-2507-4cde-b79b-dce7ac72cbd5",
   "metadata": {},
   "outputs": [],
   "source": [
    "np.random.seed(1)"
   ]
  },
  {
   "cell_type": "code",
   "execution_count": 12,
   "id": "7167144a-a68a-4f94-bc11-3a3f8d8e87f0",
   "metadata": {},
   "outputs": [],
   "source": [
    "synaptic_weights = 2 * np.random.random((3, 1)) - 1"
   ]
  },
  {
   "cell_type": "code",
   "execution_count": 13,
   "id": "6d72a693-4707-4360-9dc2-6c4977f7287e",
   "metadata": {},
   "outputs": [
    {
     "name": "stdout",
     "output_type": "stream",
     "text": [
      "Random starting synaptic weights: \n",
      "[[-0.16595599]\n",
      " [ 0.44064899]\n",
      " [-0.99977125]]\n"
     ]
    }
   ],
   "source": [
    "print('Random starting synaptic weights: ')\n",
    "print(synaptic_weights)"
   ]
  },
  {
   "cell_type": "code",
   "execution_count": 16,
   "id": "bf2ef6c1-02b9-4f4d-bac9-6d234ead11e4",
   "metadata": {},
   "outputs": [],
   "source": [
    "# Iterate 10,000 times\n",
    "for iteration in range(10000):\n",
    "\n",
    "    # Define input layer\n",
    "    input_layer = train_input\n",
    "    # Normalize the product of the input layer with the synaptic weights\n",
    "    outputs = sigmoid(np.dot(input_layer, synaptic_weights))\n",
    "\n",
    "    # how much did we miss?\n",
    "    error = train_output - outputs\n",
    "\n",
    "    # multiply how much we missed by the\n",
    "    # slope of the sigmoid at the values in outputs\n",
    "    adjustments = error * sigmoid(outputs)\n",
    "\n",
    "    # update weights\n",
    "    synaptic_weights += np.dot(input_layer.T, adjustments)"
   ]
  },
  {
   "cell_type": "code",
   "execution_count": 17,
   "id": "d7bca243-210b-433b-b59c-d16ec6dc3fa7",
   "metadata": {},
   "outputs": [
    {
     "name": "stdout",
     "output_type": "stream",
     "text": [
      "Synaptic weights after training: \n",
      "[[17.04822022]\n",
      " [-0.4053894 ]\n",
      " [-7.92876867]]\n",
      "Output After Training:\n",
      "[[3.60136003e-04]\n",
      " [9.99835751e-01]\n",
      " [9.99890486e-01]\n",
      " [2.40137673e-04]]\n"
     ]
    }
   ],
   "source": [
    "print('Synaptic weights after training: ')\n",
    "print(synaptic_weights)\n",
    "\n",
    "print(\"Output After Training:\")\n",
    "print(outputs)"
   ]
  },
  {
   "cell_type": "code",
   "execution_count": null,
   "id": "6423e95c-eca7-48bc-93b3-ae6bb2d345d2",
   "metadata": {},
   "outputs": [
    {
     "name": "stdout",
     "output_type": "stream",
     "text": [
      "Random starting synaptic weights: \n",
      "[[-0.16595599]\n",
      " [ 0.44064899]\n",
      " [-0.99977125]]\n",
      "Synaptic weights after training: \n",
      "[[ 9.67299303]\n",
      " [-0.2078435 ]\n",
      " [-4.62963669]]\n"
     ]
    }
   ],
   "source": [
    "class NeuralNetwork():\n",
    "    \n",
    "    def __init__(self):\n",
    "        # Seed the random number generator\n",
    "        np.random.seed(1)\n",
    "\n",
    "        # Set synaptic weights to a 3x1 matrix,\n",
    "        # with values from -1 to 1 and mean 0\n",
    "        self.synaptic_weights = 2 * np.random.random((3, 1)) - 1\n",
    "\n",
    "    def sigmoid(self, x):\n",
    "        \"\"\"\n",
    "        Takes in weighted sum of the inputs and normalizes\n",
    "        them through between 0 and 1 through a sigmoid function\n",
    "        \"\"\"\n",
    "        return 1 / (1 + np.exp(-x))\n",
    "\n",
    "    def sigmoid_derivative(self, x):\n",
    "        \"\"\"\n",
    "        The derivative of the sigmoid function used to\n",
    "        calculate necessary weight adjustments\n",
    "        \"\"\"\n",
    "        return x * (1 - x)\n",
    "\n",
    "    def train(self, training_inputs, training_outputs, training_iterations):\n",
    "        \"\"\"\n",
    "        We train the model through trial and error, adjusting the\n",
    "        synaptic weights each time to get a better result\n",
    "        \"\"\"\n",
    "        for iteration in range(training_iterations):\n",
    "            # Pass training set through the neural network\n",
    "            output = self.think(training_inputs)\n",
    "\n",
    "            # Calculate the error rate\n",
    "            error = training_outputs - output\n",
    "\n",
    "            # Multiply error by input and gradient of the sigmoid function\n",
    "            # Less confident weights are adjusted more through the nature of the function\n",
    "            adjustments = np.dot(training_inputs.T, error * self.sigmoid_derivative(output))\n",
    "\n",
    "            # Adjust synaptic weights\n",
    "            self.synaptic_weights += adjustments\n",
    "\n",
    "    def think(self, inputs):\n",
    "        \"\"\"\n",
    "        Pass inputs through the neural network to get output\n",
    "        \"\"\"\n",
    "        \n",
    "        inputs = inputs.astype(float)\n",
    "        output = self.sigmoid(np.dot(inputs, self.synaptic_weights))\n",
    "        return output\n",
    "\n",
    "\n",
    "if __name__ == \"__main__\":\n",
    "\n",
    "    # Initialize the single neuron neural network\n",
    "    neural_network = NeuralNetwork()\n",
    "\n",
    "    print(\"Random starting synaptic weights: \")\n",
    "    print(neural_network.synaptic_weights)\n",
    "\n",
    "    # The training set, with 4 examples consisting of 3\n",
    "    # input values and 1 output value\n",
    "    training_inputs = np.array([[0,0,1],\n",
    "                                [1,1,1],\n",
    "                                [1,0,1],\n",
    "                                [0,1,1]])\n",
    "\n",
    "    training_outputs = np.array([[0,1,1,0]]).T\n",
    "\n",
    "    # Train the neural network\n",
    "    neural_network.train(training_inputs, training_outputs, 10000)\n",
    "\n",
    "    print(\"Synaptic weights after training: \")\n",
    "    print(neural_network.synaptic_weights)\n",
    "\n",
    "    A = str(input(\"Input 1: \"))\n",
    "    B = str(input(\"Input 2: \"))\n",
    "    C = str(input(\"Input 3: \"))\n",
    "    \n",
    "    print(\"New situation: input data = \", A, B, C)\n",
    "    print(\"Output data: \")\n",
    "    print(neural_network.think(np.array([A, B, C])))"
   ]
  },
  {
   "cell_type": "code",
   "execution_count": null,
   "id": "2683536c-34d3-411f-8eef-185aadc6b0fc",
   "metadata": {},
   "outputs": [],
   "source": []
  }
 ],
 "metadata": {
  "kernelspec": {
   "display_name": "Python 3 (ipykernel)",
   "language": "python",
   "name": "python3"
  },
  "language_info": {
   "codemirror_mode": {
    "name": "ipython",
    "version": 3
   },
   "file_extension": ".py",
   "mimetype": "text/x-python",
   "name": "python",
   "nbconvert_exporter": "python",
   "pygments_lexer": "ipython3",
   "version": "3.10.4"
  }
 },
 "nbformat": 4,
 "nbformat_minor": 5
}
