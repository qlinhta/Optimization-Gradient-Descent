{
 "cells": [
  {
   "cell_type": "code",
   "execution_count": 4,
   "metadata": {
    "collapsed": false,
    "jupyter": {
     "outputs_hidden": false
    },
    "pycharm": {
     "is_executing": true,
     "name": "#%%\n"
    }
   },
   "outputs": [],
   "source": [
    "import numpy as np\n",
    "import pandas as pd\n",
    "from matplotlib import pyplot as plt\n",
    "\n",
    "data = pd.read_csv('mnist/train.csv')\n",
    "test = pd.read_csv('mnist/test.csv')"
   ]
  },
  {
   "cell_type": "markdown",
   "metadata": {},
   "source": [
    "Our NN will have a simple two-layer architecture. Input layer $a^{[0]}$ will have 784 units corresponding to the 784 pixels in each 28x28 input image. A hidden layer $a^{[1]}$ will have 10 units with ReLU activation, and finally our output layer $a^{[2]}$ will have 10 units corresponding to the ten digit classes with softmax activation.\n",
    "\n",
    "**Forward propagation**\n",
    "\n",
    "$$Z^{[1]} = W^{[1]} X + b^{[1]}$$\n",
    "$$A^{[1]} = g_{\\text{ReLU}}(Z^{[1]}))$$\n",
    "$$Z^{[2]} = W^{[2]} A^{[1]} + b^{[2]}$$\n",
    "$$A^{[2]} = g_{\\text{softmax}}(Z^{[2]})$$\n",
    "\n",
    "**Backward propagation**\n",
    "\n",
    "$$dZ^{[2]} = A^{[2]} - Y$$\n",
    "$$dW^{[2]} = \\frac{1}{m} dZ^{[2]} A^{[1]T}$$\n",
    "$$dB^{[2]} = \\frac{1}{m} \\Sigma {dZ^{[2]}}$$\n",
    "$$dZ^{[1]} = W^{[2]T} dZ^{[2]} .* g^{[1]\\prime} (z^{[1]})$$\n",
    "$$dW^{[1]} = \\frac{1}{m} dZ^{[1]} A^{[0]T}$$\n",
    "$$dB^{[1]} = \\frac{1}{m} \\Sigma {dZ^{[1]}}$$\n",
    "\n",
    "**Parameter updates**\n",
    "\n",
    "$$W^{[2]} := W^{[2]} - \\alpha dW^{[2]}$$\n",
    "$$b^{[2]} := b^{[2]} - \\alpha db^{[2]}$$\n",
    "$$W^{[1]} := W^{[1]} - \\alpha dW^{[1]}$$\n",
    "$$b^{[1]} := b^{[1]} - \\alpha db^{[1]}$$\n",
    "\n",
    "**Vars and shapes**\n",
    "\n",
    "Forward prop\n",
    "\n",
    "- $A^{[0]} = X$: 784 x m\n",
    "- $Z^{[1]} \\sim A^{[1]}$: 10 x m\n",
    "- $W^{[1]}$: 10 x 784 (as $W^{[1]} A^{[0]} \\sim Z^{[1]}$)\n",
    "- $B^{[1]}$: 10 x 1\n",
    "- $Z^{[2]} \\sim A^{[2]}$: 10 x m\n",
    "- $W^{[1]}$: 10 x 10 (as $W^{[2]} A^{[1]} \\sim Z^{[2]}$)\n",
    "- $B^{[2]}$: 10 x 1\n",
    "\n",
    "Backprop\n",
    "\n",
    "- $dZ^{[2]}$: 10 x m ($~A^{[2]}$)\n",
    "- $dW^{[2]}$: 10 x 10\n",
    "- $dB^{[2]}$: 10 x 1\n",
    "- $dZ^{[1]}$: 10 x m ($~A^{[1]}$)\n",
    "- $dW^{[1]}$: 10 x 10\n",
    "- $dB^{[1]}$: 10 x 1"
   ]
  },
  {
   "cell_type": "code",
   "execution_count": 8,
   "metadata": {},
   "outputs": [],
   "source": [
    "data = np.array(data)\n",
    "m, n = data.shape\n",
    "np.random.shuffle(data) # shuffle before splitting into dev and training sets\n",
    "\n",
    "data_dev = data[0:1000].T\n",
    "y_dev = data_dev[0]\n",
    "x_dev = data_dev[1:n]\n",
    "x_dev = x_dev / 255.\n",
    "\n",
    "data_train = data[1000:m].T\n",
    "y_train = data_train[0]\n",
    "x_train = data_train[1:n]\n",
    "x_train = x_train / 255.\n",
    "_,m_train = x_train.shape"
   ]
  },
  {
   "cell_type": "code",
   "execution_count": 9,
   "metadata": {},
   "outputs": [
    {
     "data": {
      "text/plain": [
       "array([9, 3, 4, ..., 7, 9, 2])"
      ]
     },
     "execution_count": 9,
     "metadata": {},
     "output_type": "execute_result"
    }
   ],
   "source": [
    "y_train"
   ]
  },
  {
   "cell_type": "code",
   "execution_count": 10,
   "metadata": {},
   "outputs": [],
   "source": [
    "def init_params():\n",
    "    W1 = np.random.rand(10, 784) - 0.5\n",
    "    b1 = np.random.rand(10, 1) - 0.5\n",
    "    W2 = np.random.rand(10, 10) - 0.5\n",
    "    b2 = np.random.rand(10, 1) - 0.5\n",
    "    return W1, b1, W2, b2\n",
    "\n",
    "def ReLU(Z):\n",
    "    return np.maximum(Z, 0)\n",
    "\n",
    "def softmax(Z):\n",
    "    A = np.exp(Z) / sum(np.exp(Z))\n",
    "    return A\n",
    "    \n",
    "def forward_prop(W1, b1, W2, b2, X):\n",
    "    Z1 = W1.dot(X) + b1\n",
    "    A1 = ReLU(Z1)\n",
    "    Z2 = W2.dot(A1) + b2\n",
    "    A2 = softmax(Z2)\n",
    "    return Z1, A1, Z2, A2\n",
    "\n",
    "def ReLU_deriv(Z):\n",
    "    return Z > 0\n",
    "\n",
    "def one_hot(Y):\n",
    "    one_hot_Y = np.zeros((Y.size, Y.max() + 1))\n",
    "    one_hot_Y[np.arange(Y.size), Y] = 1\n",
    "    one_hot_Y = one_hot_Y.T\n",
    "    return one_hot_Y\n",
    "\n",
    "def backward_prop(Z1, A1, Z2, A2, W1, W2, X, Y):\n",
    "    one_hot_Y = one_hot(Y)\n",
    "    dZ2 = A2 - one_hot_Y\n",
    "    dW2 = 1 / m * dZ2.dot(A1.T)\n",
    "    db2 = 1 / m * np.sum(dZ2)\n",
    "    dZ1 = W2.T.dot(dZ2) * ReLU_deriv(Z1)\n",
    "    dW1 = 1 / m * dZ1.dot(X.T)\n",
    "    db1 = 1 / m * np.sum(dZ1)\n",
    "    return dW1, db1, dW2, db2\n",
    "\n",
    "def update_params(W1, b1, W2, b2, dW1, db1, dW2, db2, alpha):\n",
    "    W1 = W1 - alpha * dW1\n",
    "    b1 = b1 - alpha * db1    \n",
    "    W2 = W2 - alpha * dW2  \n",
    "    b2 = b2 - alpha * db2    \n",
    "    return W1, b1, W2, b2"
   ]
  },
  {
   "cell_type": "code",
   "execution_count": 11,
   "metadata": {},
   "outputs": [],
   "source": [
    "def get_predictions(A2):\n",
    "    return np.argmax(A2, 0)\n",
    "\n",
    "def get_accuracy(predictions, Y):\n",
    "    print(predictions, Y)\n",
    "    return np.sum(predictions == Y) / Y.size\n",
    "\n",
    "def gradient_descent(X, Y, alpha, iterations):\n",
    "    W1, b1, W2, b2 = init_params()\n",
    "    for i in range(iterations):\n",
    "        Z1, A1, Z2, A2 = forward_prop(W1, b1, W2, b2, X)\n",
    "        dW1, db1, dW2, db2 = backward_prop(Z1, A1, Z2, A2, W1, W2, X, Y)\n",
    "        W1, b1, W2, b2 = update_params(W1, b1, W2, b2, dW1, db1, dW2, db2, alpha)\n",
    "        if i % 10 == 0:\n",
    "            print(\"Iteration: \", i)\n",
    "            predictions = get_predictions(A2)\n",
    "            print(get_accuracy(predictions, Y))\n",
    "    return W1, b1, W2, b2"
   ]
  },
  {
   "cell_type": "code",
   "execution_count": 13,
   "metadata": {},
   "outputs": [
    {
     "name": "stdout",
     "output_type": "stream",
     "text": [
      "Iteration:  0\n",
      "[6 8 0 ... 8 8 0] [9 3 4 ... 7 9 2]\n",
      "0.081\n",
      "Iteration:  10\n",
      "[3 4 4 ... 0 4 0] [9 3 4 ... 7 9 2]\n",
      "0.1445121951219512\n",
      "Iteration:  20\n",
      "[3 4 4 ... 4 4 0] [9 3 4 ... 7 9 2]\n",
      "0.19973170731707318\n",
      "Iteration:  30\n",
      "[1 4 4 ... 3 4 0] [9 3 4 ... 7 9 2]\n",
      "0.258609756097561\n",
      "Iteration:  40\n",
      "[1 4 4 ... 3 4 0] [9 3 4 ... 7 9 2]\n",
      "0.2788048780487805\n",
      "Iteration:  50\n",
      "[1 3 4 ... 3 4 0] [9 3 4 ... 7 9 2]\n",
      "0.29660975609756096\n",
      "Iteration:  60\n",
      "[1 3 4 ... 3 4 2] [9 3 4 ... 7 9 2]\n",
      "0.3188048780487805\n",
      "Iteration:  70\n",
      "[1 3 4 ... 3 4 2] [9 3 4 ... 7 9 2]\n",
      "0.34968292682926827\n",
      "Iteration:  80\n",
      "[1 3 4 ... 3 4 2] [9 3 4 ... 7 9 2]\n",
      "0.39358536585365855\n",
      "Iteration:  90\n",
      "[1 3 4 ... 9 4 2] [9 3 4 ... 7 9 2]\n",
      "0.4426829268292683\n",
      "Iteration:  100\n",
      "[1 3 4 ... 9 4 2] [9 3 4 ... 7 9 2]\n",
      "0.4891463414634146\n",
      "Iteration:  110\n",
      "[1 3 4 ... 7 4 2] [9 3 4 ... 7 9 2]\n",
      "0.5280243902439025\n",
      "Iteration:  120\n",
      "[1 3 4 ... 7 4 2] [9 3 4 ... 7 9 2]\n",
      "0.5607073170731708\n",
      "Iteration:  130\n",
      "[1 3 4 ... 7 4 2] [9 3 4 ... 7 9 2]\n",
      "0.5870243902439024\n",
      "Iteration:  140\n",
      "[1 3 4 ... 7 4 2] [9 3 4 ... 7 9 2]\n",
      "0.6088536585365854\n",
      "Iteration:  150\n",
      "[1 3 4 ... 7 4 2] [9 3 4 ... 7 9 2]\n",
      "0.6289268292682927\n",
      "Iteration:  160\n",
      "[1 3 4 ... 7 4 2] [9 3 4 ... 7 9 2]\n",
      "0.6465121951219512\n",
      "Iteration:  170\n",
      "[1 3 4 ... 7 4 2] [9 3 4 ... 7 9 2]\n",
      "0.6624634146341464\n",
      "Iteration:  180\n",
      "[1 3 4 ... 7 4 2] [9 3 4 ... 7 9 2]\n",
      "0.6773414634146342\n",
      "Iteration:  190\n",
      "[1 3 4 ... 7 4 2] [9 3 4 ... 7 9 2]\n",
      "0.6890487804878048\n",
      "Iteration:  200\n",
      "[1 3 4 ... 7 4 2] [9 3 4 ... 7 9 2]\n",
      "0.7011951219512195\n",
      "Iteration:  210\n",
      "[1 3 4 ... 7 4 2] [9 3 4 ... 7 9 2]\n",
      "0.7112439024390244\n",
      "Iteration:  220\n",
      "[1 3 4 ... 7 4 2] [9 3 4 ... 7 9 2]\n",
      "0.7215121951219512\n",
      "Iteration:  230\n",
      "[1 3 4 ... 7 4 2] [9 3 4 ... 7 9 2]\n",
      "0.7299268292682927\n",
      "Iteration:  240\n",
      "[1 3 4 ... 7 4 2] [9 3 4 ... 7 9 2]\n",
      "0.7380731707317073\n",
      "Iteration:  250\n",
      "[1 3 4 ... 7 4 2] [9 3 4 ... 7 9 2]\n",
      "0.7452926829268293\n",
      "Iteration:  260\n",
      "[1 3 4 ... 7 4 2] [9 3 4 ... 7 9 2]\n",
      "0.7518780487804878\n",
      "Iteration:  270\n",
      "[1 3 4 ... 7 4 2] [9 3 4 ... 7 9 2]\n",
      "0.7582439024390244\n",
      "Iteration:  280\n",
      "[1 3 4 ... 7 4 2] [9 3 4 ... 7 9 2]\n",
      "0.7640243902439025\n",
      "Iteration:  290\n",
      "[1 3 4 ... 7 4 2] [9 3 4 ... 7 9 2]\n",
      "0.7687804878048781\n",
      "Iteration:  300\n",
      "[1 3 4 ... 7 4 2] [9 3 4 ... 7 9 2]\n",
      "0.7737317073170732\n",
      "Iteration:  310\n",
      "[1 3 4 ... 7 4 2] [9 3 4 ... 7 9 2]\n",
      "0.7787804878048781\n",
      "Iteration:  320\n",
      "[1 3 4 ... 7 4 2] [9 3 4 ... 7 9 2]\n",
      "0.7829512195121952\n",
      "Iteration:  330\n",
      "[1 3 4 ... 7 4 2] [9 3 4 ... 7 9 2]\n",
      "0.7871219512195122\n",
      "Iteration:  340\n",
      "[1 3 4 ... 7 4 2] [9 3 4 ... 7 9 2]\n",
      "0.7913414634146342\n",
      "Iteration:  350\n",
      "[1 3 4 ... 7 4 2] [9 3 4 ... 7 9 2]\n",
      "0.7951463414634147\n",
      "Iteration:  360\n",
      "[1 3 4 ... 7 4 2] [9 3 4 ... 7 9 2]\n",
      "0.7981707317073171\n",
      "Iteration:  370\n",
      "[1 3 4 ... 7 4 2] [9 3 4 ... 7 9 2]\n",
      "0.801609756097561\n",
      "Iteration:  380\n",
      "[1 3 4 ... 7 4 2] [9 3 4 ... 7 9 2]\n",
      "0.8046341463414635\n",
      "Iteration:  390\n",
      "[1 3 4 ... 7 4 2] [9 3 4 ... 7 9 2]\n",
      "0.8071219512195122\n",
      "Iteration:  400\n",
      "[1 3 4 ... 7 4 2] [9 3 4 ... 7 9 2]\n",
      "0.8100487804878049\n",
      "Iteration:  410\n",
      "[1 3 4 ... 7 4 2] [9 3 4 ... 7 9 2]\n",
      "0.8123902439024391\n",
      "Iteration:  420\n",
      "[1 3 4 ... 7 4 2] [9 3 4 ... 7 9 2]\n",
      "0.8148292682926829\n",
      "Iteration:  430\n",
      "[1 3 4 ... 7 4 2] [9 3 4 ... 7 9 2]\n",
      "0.8174634146341463\n",
      "Iteration:  440\n",
      "[1 3 4 ... 7 4 2] [9 3 4 ... 7 9 2]\n",
      "0.8196829268292682\n",
      "Iteration:  450\n",
      "[1 3 4 ... 7 4 2] [9 3 4 ... 7 9 2]\n",
      "0.8217560975609756\n",
      "Iteration:  460\n",
      "[1 3 4 ... 7 4 2] [9 3 4 ... 7 9 2]\n",
      "0.823560975609756\n",
      "Iteration:  470\n",
      "[1 3 4 ... 7 4 2] [9 3 4 ... 7 9 2]\n",
      "0.825780487804878\n",
      "Iteration:  480\n",
      "[1 3 4 ... 7 4 2] [9 3 4 ... 7 9 2]\n",
      "0.8275853658536585\n",
      "Iteration:  490\n",
      "[1 3 4 ... 7 4 2] [9 3 4 ... 7 9 2]\n",
      "0.8293658536585365\n"
     ]
    }
   ],
   "source": [
    "W1, b1, W2, b2 = gradient_descent(x_train, y_train, 0.10, 500)"
   ]
  },
  {
   "cell_type": "code",
   "execution_count": 16,
   "metadata": {},
   "outputs": [],
   "source": [
    "def make_predictions(X, W1, b1, W2, b2):\n",
    "    _, _, _, A2 = forward_prop(W1, b1, W2, b2, X)\n",
    "    predictions = get_predictions(A2)\n",
    "    return predictions\n",
    "\n",
    "def test_prediction(index, W1, b1, W2, b2):\n",
    "    current_image = x_train[:, index, None]\n",
    "    prediction = make_predictions(x_train[:, index, None], W1, b1, W2, b2)\n",
    "    label = y_train[index]\n",
    "    print(\"Prediction: \", prediction)\n",
    "    print(\"Label: \", label)\n",
    "    \n",
    "    current_image = current_image.reshape((28, 28)) * 255\n",
    "    plt.gray()\n",
    "    plt.imshow(current_image, interpolation='nearest')\n",
    "    plt.show()"
   ]
  },
  {
   "cell_type": "code",
   "execution_count": 17,
   "metadata": {},
   "outputs": [
    {
     "name": "stdout",
     "output_type": "stream",
     "text": [
      "Prediction:  [1]\n",
      "Label:  9\n"
     ]
    },
    {
     "data": {
      "image/png": "[encoded data removed]",
      "text/plain": [
       "<Figure size 432x288 with 1 Axes>"
      ]
     },
     "metadata": {
      "needs_background": "light"
     },
     "output_type": "display_data"
    },
    {
     "name": "stdout",
     "output_type": "stream",
     "text": [
      "Prediction:  [3]\n",
      "Label:  3\n"
     ]
    },
    {
     "data": {
      "image/png": "[encoded data removed]",
      "text/plain": [
       "<Figure size 432x288 with 1 Axes>"
      ]
     },
     "metadata": {
      "needs_background": "light"
     },
     "output_type": "display_data"
    },
    {
     "name": "stdout",
     "output_type": "stream",
     "text": [
      "Prediction:  [4]\n",
      "Label:  4\n"
     ]
    },
    {
     "data": {
      "image/png": "[encoded data removed]",
      "text/plain": [
       "<Figure size 432x288 with 1 Axes>"
      ]
     },
     "metadata": {
      "needs_background": "light"
     },
     "output_type": "display_data"
    },
    {
     "name": "stdout",
     "output_type": "stream",
     "text": [
      "Prediction:  [5]\n",
      "Label:  5\n"
     ]
    },
    {
     "data": {
      "image/png": "[encoded data removed]",
      "text/plain": [
       "<Figure size 432x288 with 1 Axes>"
      ]
     },
     "metadata": {
      "needs_background": "light"
     },
     "output_type": "display_data"
    }
   ],
   "source": [
    "test_prediction(0, W1, b1, W2, b2)\n",
    "test_prediction(1, W1, b1, W2, b2)\n",
    "test_prediction(2, W1, b1, W2, b2)\n",
    "test_prediction(3, W1, b1, W2, b2)"
   ]
  },
  {
   "cell_type": "code",
   "execution_count": null,
   "metadata": {},
   "outputs": [],
   "source": []
  }
 ],
 "metadata": {
  "kernelspec": {
   "display_name": "Python 3 (ipykernel)",
   "language": "python",
   "name": "python3"
  },
  "language_info": {
   "codemirror_mode": {
    "name": "ipython",
    "version": 3
   },
   "file_extension": ".py",
   "mimetype": "text/x-python",
   "name": "python",
   "nbconvert_exporter": "python",
   "pygments_lexer": "ipython3",
   "version": "3.10.4"
  }
 },
 "nbformat": 4,
 "nbformat_minor": 4
}
